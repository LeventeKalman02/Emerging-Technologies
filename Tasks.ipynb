{
 "cells": [
  {
   "cell_type": "code",
   "execution_count": 19,
   "metadata": {},
   "outputs": [
    {
     "data": {
      "text/plain": [
       "'Task 1 Third-order letter approximation model'"
      ]
     },
     "execution_count": 19,
     "metadata": {},
     "output_type": "execute_result"
    }
   ],
   "source": [
    "\"\"\"Task 1 Third-order letter approximation model\n",
    "#To Do:\n",
    "# Use them to create a model of the English language as follows. Remove any preamble and postamble. \n",
    "# Remove all characters except for (ASCII) letters (uppercase and lowercase), full stops, and spaces. \n",
    "# Make all letters uppercase.\n",
    "\"\"\""
   ]
  },
  {
   "cell_type": "code",
   "execution_count": 35,
   "metadata": {},
   "outputs": [
    {
     "name": "stdout",
     "output_type": "stream",
     "text": [
      "File /books/Dracula.txt not found\n",
      "THIS IS AN EXAMPLE TEXT. IT HAS  AND \n"
     ]
    }
   ],
   "source": [
    "import re\n",
    "\n",
    "def process_text(text):\n",
    "    \n",
    "    \n",
    "    text = re.sub(r'[^a-zA-Z. ]', '', text)\n",
    "    \n",
    "    text = text.upper()\n",
    "    \n",
    "    return text\n",
    "\n",
    "#test the text input\n",
    "#input_text = \"This is an example text. it has 123 and #!\"\n",
    "\n",
    "\n",
    "#read text from file\n",
    "file_path = \"/books/Dracula.txt\"\n",
    "\n",
    "try:\n",
    "    with open(file_path, 'r') as file:\n",
    "        content = file.read()\n",
    "except FileNotFoundError:\n",
    "    print(f\"File {file_path} not found\")\n",
    "    exit(1)\n",
    "\n",
    "    \n",
    "#process the text\n",
    "process_text = process_text(input_text)\n",
    "print(process_text)\n",
    "\n"
   ]
  }
 ],
 "metadata": {
  "kernelspec": {
   "display_name": "Python 3",
   "language": "python",
   "name": "python3"
  },
  "language_info": {
   "codemirror_mode": {
    "name": "ipython",
    "version": 3
   },
   "file_extension": ".py",
   "mimetype": "text/x-python",
   "name": "python",
   "nbconvert_exporter": "python",
   "pygments_lexer": "ipython3",
   "version": "3.12.7"
  }
 },
 "nbformat": 4,
 "nbformat_minor": 2
}
